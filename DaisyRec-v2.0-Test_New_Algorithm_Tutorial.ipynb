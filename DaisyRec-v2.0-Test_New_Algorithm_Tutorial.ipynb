{
 "cells": [
  {
   "attachments": {},
   "cell_type": "markdown",
   "metadata": {},
   "source": [
    "![Alt Text](./images/logo.png)\n",
    "\n",
    "\n",
    "# Daisy Rec Evaluate New Algorithm tutorial\n",
    "\n",
    "This is a tutorial under construction on how to add a new model into DaisyRec and evaluate its test metrics. \n",
    "This tutorial is still under construction so please do report on any bugs you might find!"
   ]
  },
  {
   "attachments": {},
   "cell_type": "markdown",
   "metadata": {},
   "source": [
    "## Steps \n",
    "\n",
    " Say you want to create a fantastic new recommender algorithm called Second Most Popular, where you take the top-n+1 most popular items and cut off the most popular\n",
    " \n",
    " First, **create a shortened name string** , e.g. \"sndmostpop\". Remember this string.\n"
   ]
  },
  {
   "attachments": {},
   "cell_type": "markdown",
   "metadata": {},
   "source": [
    "\n",
    "### Step 1\n",
    "\n",
    "1. Go to folder 'daisy/assets'\n",
    "2. Create a yaml config file for the model using the name. This case the new file would be 'daisy/assets/sndmostpop.yaml'\n",
    "3. Inside the YAML file, input all the **default** hyperparameters in yaml format. Since this algorithm has no hyperparametrs, the file will be left empty (but still need to be created).\n",
    "\n",
    "![Alt Text](./images/new_algo/new_yaml.png)"
   ]
  },
  {
   "attachments": {},
   "cell_type": "markdown",
   "metadata": {},
   "source": [
    "#### Step 2\n",
    "\n",
    "1. Create the new model python file, following naming convention of adding \"Recommender\" at the back E.g., SecondMostPopRecommender.py\n",
    "2. Put the file into the daisy/models folder, in the /accuracy subfolder or /diversity subfolder\n",
    "3. Inside the file, define your model class; in this case, it would be:\n",
    "\n",
    "```\n",
    "from daisy.model.AbstractRecommender import GeneralRecommender\n",
    "\n",
    "class BBFA(GeneralRecommender):\n",
    "    '''\n",
    "    Model recommends user the second most popular item in the list\n",
    "    '''\n",
    "\n",
    "    def __init__(self, config):\n",
    "        super().__init__(config)\n",
    "        self.config = config\n",
    "    \n",
    "    def fit(self):\n",
    "        pass\n",
    "```\n",
    "4. Now, import the Model in Models.py, following the remaining convention\n",
    "\n",
    "Before proceeding with the remaining definition, see remaining steps first"
   ]
  },
  {
   "cell_type": "markdown",
   "metadata": {},
   "source": [
    "### Step 3\n",
    "\n",
    "1. Put the model name into the model builder in both tune.py and test.py\n",
    "    - In each file, search \"if algo_name in [array of algo names]\" in your code editor\n",
    "    - Notice that each algo_name is in an array corresponding to whatever settings are needed for building that model.\n",
    "    - Add your model name into one of these arrays"
   ]
  }
 ],
 "metadata": {
  "kernelspec": {
   "display_name": "Python 3 (ipykernel)",
   "language": "python",
   "name": "python3"
  },
  "language_info": {
   "codemirror_mode": {
    "name": "ipython",
    "version": 3
   },
   "file_extension": ".py",
   "mimetype": "text/x-python",
   "name": "python",
   "nbconvert_exporter": "python",
   "pygments_lexer": "ipython3",
   "version": "3.9.7"
  }
 },
 "nbformat": 4,
 "nbformat_minor": 2
}
