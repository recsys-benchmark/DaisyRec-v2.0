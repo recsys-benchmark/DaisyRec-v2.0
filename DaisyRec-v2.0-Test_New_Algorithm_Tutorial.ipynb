{
 "cells": [
  {
   "attachments": {},
   "cell_type": "markdown",
   "metadata": {},
   "source": [
    "## New algorithm adding tutorial\n",
    "\n",
    " - This is a tutorial under construction on how to add a new model into DaisyRec\n",
    " - Do report on any runtime-errors/bugs to the admins of DaisyRec"
   ]
  },
  {
   "attachments": {},
   "cell_type": "markdown",
   "metadata": {},
   "source": [
    "## Steps \n",
    "\n",
    " - Say you want to create a fantastic new recommender algorithm called Big Brain Fantastic Algorithm\n",
    " - First, create a shortened name string, e.g. \"BBFA\". Remember this string.\n"
   ]
  },
  {
   "attachments": {},
   "cell_type": "markdown",
   "metadata": {},
   "source": [
    "\n",
    "#### Step 1\n",
    "\n",
    "1. Go to folder 'daisy/assets'\n",
    "2. Create a yaml config file for the model using the name. This case the new file would be 'daisy/assets/BBFA.yaml'\n",
    "3. Inside the YAML file, input all the **default** hyperparameters in yaml format.\n"
   ]
  },
  {
   "attachments": {},
   "cell_type": "markdown",
   "metadata": {},
   "source": [
    "#### Step 2\n",
    "\n",
    "1. Create the new model python file, following naming convention E.g., BigBrainRecommender.py\n",
    "2. Put the file into the daisy/models folder, in the /accuracy subfolder or /diversity subfolder\n",
    "3. Inside the file, define your model class; in this case, it would be:\n",
    "\n",
    "```\n",
    "from daisy.model.AbstractRecommender import GeneralRecommender\n",
    "\n",
    "class BBFA(GeneralRecommender):\n",
    "    '''\n",
    "    Model recommends user the second most popular item in the list\n",
    "    '''\n",
    "\n",
    "    def __init__(self, config):\n",
    "        super().__init__(config)\n",
    "        self.config = config\n",
    "    \n",
    "    def fit(self):\n",
    "        pass\n",
    "```\n",
    "4. Now, import the Model in Models.py, following the remaining convention\n",
    "\n",
    "Before proceeding with the remaining definition, see remaining steps first"
   ]
  },
  {
   "attachments": {},
   "cell_type": "markdown",
   "metadata": {},
   "source": [
    "### Step 3\n",
    "\n",
    "1. Put the model name into the model builder in both tune.py and test.py\n",
    "    - In each file, search \"if algo_name in [array of algo names]\" in your code editor\n",
    "    - Notice that each algo_name is in an array corresponding to whatever settings are needed for building that model.\n",
    "    - Add your model name into one of these arrays"
   ]
  }
 ],
 "metadata": {
  "language_info": {
   "name": "python"
  },
  "orig_nbformat": 4
 },
 "nbformat": 4,
 "nbformat_minor": 2
}
